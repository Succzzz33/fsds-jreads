{
  "nbformat": 4,
  "nbformat_minor": 0,
  "metadata": {
    "colab": {
      "provenance": [],
      "authorship_tag": "ABX9TyNKSc1AEGHvPMGLuxj24z/N",
      "include_colab_link": true
    },
    "kernelspec": {
      "name": "python3",
      "display_name": "Python 3"
    },
    "language_info": {
      "name": "python"
    }
  },
  "cells": [
    {
      "cell_type": "markdown",
      "metadata": {
        "id": "view-in-github",
        "colab_type": "text"
      },
      "source": [
        "<a href=\"https://colab.research.google.com/github/Succzzz33/fsds-jreads/blob/master/wk4.ipynb\" target=\"_parent\"><img src=\"https://colab.research.google.com/assets/colab-badge.svg\" alt=\"Open In Colab\"/></a>"
      ]
    },
    {
      "cell_type": "code",
      "source": [
        "class pizza(object):\n",
        "  base = 'sourdough'\n",
        "\n",
        "  def __init__(self, sauce:str='tomato', cheese:str='mozzarella'):\n",
        "    self.toppings = []\n",
        "    self.sauce = sauce\n",
        "    self.cheese = cheese\n",
        "\n",
        "  def add_topping(self, topping:str) -> None:\n",
        "    self.toppings.insert(len(self.toppings), topping)\n",
        "\n",
        "  def get_pizza(self) -> list:\n",
        "    ingredients = [self.base, self.sauce, self.cheese]\n",
        "    ingredients.extend(self.toppings)\n",
        "    return ingredients\n"
      ],
      "metadata": {
        "id": "vQ9AMJ9-4k9t"
      },
      "execution_count": null,
      "outputs": []
    },
    {
      "cell_type": "code",
      "source": [
        "x,y = 10,'0'\n",
        "try:\n",
        "  print(x/y)\n",
        "except ZeroDivisionError:\n",
        "  print(\"You can't divide by zero!\")\n",
        "  raise Exception(\"Please don't do that again!\")\n",
        "except:\n",
        "  print('something goes very wrong')\n",
        "finally:\n",
        "  print(\"Division is fun!\")"
      ],
      "metadata": {
        "colab": {
          "base_uri": "https://localhost:8080/"
        },
        "id": "n4tKh6rBF_S4",
        "outputId": "0d4e1d35-9634-4b64-d55f-7bfa2023463d"
      },
      "execution_count": null,
      "outputs": [
        {
          "output_type": "stream",
          "name": "stdout",
          "text": [
            "something goes very wrong\n",
            "Division is fun!\n"
          ]
        }
      ]
    },
    {
      "cell_type": "code",
      "source": [
        "print(f\"City distribution has a mean {mean:,.0f} and standard deviation of {std:,.2f}.\")\n",
        "# 这里，代表单位 .0f是保留几位小数、\n",
        "# {}mean,要加{} 不然直接输出‘mean'了"
      ],
      "metadata": {
        "id": "wkujH4xmg588",
        "colab": {
          "base_uri": "https://localhost:8080/",
          "height": 221
        },
        "outputId": "08ef75f9-87f5-4a6f-9777-a3e735d9e52e"
      },
      "execution_count": null,
      "outputs": [
        {
          "output_type": "error",
          "ename": "NameError",
          "evalue": "ignored",
          "traceback": [
            "\u001b[0;31m---------------------------------------------------------------------------\u001b[0m",
            "\u001b[0;31mNameError\u001b[0m                                 Traceback (most recent call last)",
            "\u001b[0;32m<ipython-input-2-1f3057040635>\u001b[0m in \u001b[0;36m<cell line: 1>\u001b[0;34m()\u001b[0m\n\u001b[0;32m----> 1\u001b[0;31m \u001b[0mprint\u001b[0m\u001b[0;34m(\u001b[0m\u001b[0;34mf\"City distribution has a mean {mean:,.0f} and standard deviation of {std:,.2f}.\"\u001b[0m\u001b[0;34m)\u001b[0m\u001b[0;34m\u001b[0m\u001b[0;34m\u001b[0m\u001b[0m\n\u001b[0m\u001b[1;32m      2\u001b[0m \u001b[0;31m##这里，代表单位 .0f是保留几位小数、\u001b[0m\u001b[0;34m\u001b[0m\u001b[0;34m\u001b[0m\u001b[0m\n\u001b[1;32m      3\u001b[0m \u001b[0;31m#{}mean,要加{} 不然直接输出‘mean'了\u001b[0m\u001b[0;34m\u001b[0m\u001b[0;34m\u001b[0m\u001b[0m\n",
            "\u001b[0;31mNameError\u001b[0m: name 'mean' is not defined"
          ]
        }
      ]
    },
    {
      "cell_type": "code",
      "source": [
        "#从url下载csv 并convert to list 并simple caculation\n",
        "from urllib.request import urlopen\n",
        "import csv\n",
        "\n",
        "url = \"https://raw.githubusercontent.com/jreades/fsds/master/data/src/Wikipedia-Cities-simple.csv\"\n",
        "\n",
        "urlData = [] # Somewhere to store the data\n",
        "\n",
        "response = urlopen(url) # Get the data using the urlopen function\n",
        "csvfile  = csv.reader(response.read().decode('utf-8').splitlines()) # Pass it over to the reader\n",
        "\n",
        "for row in csvfile:\n",
        "    urlData.append(row) # append将一个元素添加到列表的末尾\n",
        "    #insert 在列表的指定位置插入一个元素。 例子: my_list.insert(index, item)\n",
        "    # extend 例子 my_list.extend(another_list) another_list 中的每个元素添加到 my_list 的末尾\n",
        "\n",
        "print(\"urlData has \" + str(len(urlData)) + \" rows and \" + str(len(urlData[0])) + \" columns.\")\n",
        "print(urlData[-1]) # Check it worked!\n",
        "response"
      ],
      "metadata": {
        "id": "BGIIjvgwOWjv",
        "colab": {
          "base_uri": "https://localhost:8080/"
        },
        "outputId": "6dcc598d-aae0-4bdb-c66f-f0391ec2a4bf"
      },
      "execution_count": null,
      "outputs": [
        {
          "output_type": "stream",
          "name": "stdout",
          "text": [
            "urlData has 11 rows and 4 columns.\n",
            "['Bangor', '18808', '53.228', '-4.128']\n"
          ]
        },
        {
          "output_type": "execute_result",
          "data": {
            "text/plain": [
              "<http.client.HTTPResponse at 0x7e74debe42b0>"
            ]
          },
          "metadata": {},
          "execution_count": 1
        }
      ]
    },
    {
      "cell_type": "code",
      "source": [
        "import os\n",
        "url = \"https://raw.githubusercontent.com/jreades/fsds/master/data/src/Wikipedia-Cities-simple.csv\"\n",
        "out = os.path.join('data','Wikipedia-Cities.csv') #只是通过‘/' 把路径表达出来 PS,若有一个路径部分是绝对路径，则这部分之前所有部分都被忽略\n",
        "from urllib.request import urlopen\n",
        "\n",
        "def get_url(src, dest):\n",
        "\n",
        "\n",
        "    if os.path.isfile(dest):\n",
        "        print(f\"{dest} found locally!\")\n",
        "    else:\n",
        "        print(f\"{dest} not found, downloading!\")\n",
        "\n",
        "        # Get the data using the urlopen function\n",
        "        response = urlopen(src)\n",
        "        filedata = response.read().decode('utf-8')\n",
        "\n",
        "        # Extract the part of the dest(ination) that is *not*\n",
        "        # the actual filename-`\n",
        "        path = list(os.path.split(dest)[:-1])\n",
        "\n",
        "        # Create any missing directories in dest(ination) path\n",
        "        # -- os.path.join is the reverse of split (as you saw above)\n",
        "        # but it doesn't work with lists... so I had to google how\n",
        "        # to use the 'splat' operator! os.makedirs creates missing\n",
        "        # directories in a path automatically.\n",
        "        if len(path) >= 1 and path[0] != '':\n",
        "            os.makedirs(os.path.join(*path), exist_ok=True)\n",
        "\n",
        "        with open(dest, 'w') as f:  #with是操作结束之后关闭文件  w意味着写入模式打开文件 r只读。\n",
        "        #在写入模式下，如果文件不存在，会创建一个新文件。\n",
        "            f.write(filedata) #filedata写入f 即dest中\n",
        "\n",
        "        print(f\"Data written to {dest}!\")\n",
        "\n",
        "    return dest\n",
        "\n",
        "\n",
        "src = get_url(url, out)\n",
        "\n"
      ],
      "metadata": {
        "colab": {
          "base_uri": "https://localhost:8080/"
        },
        "id": "0RAR-OttV9tv",
        "outputId": "d6b7d504-b65e-401b-acc9-a5bf6e35efd1"
      },
      "execution_count": null,
      "outputs": [
        {
          "output_type": "stream",
          "name": "stdout",
          "text": [
            "data/Wikipedia-Cities.csv found locally!\n"
          ]
        }
      ]
    },
    {
      "cell_type": "code",
      "source": [
        "# csv to DoL\n",
        "\n",
        "import csv\n",
        "\n",
        "def read_csv(src):\n",
        "\n",
        "    csvdata = {} # An empty dictionary-of-lists\n",
        "\n",
        "    with open(src, 'r') as f:\n",
        "        csvr = csv.reader(f)\n",
        "\n",
        "        # Read in our column names and\n",
        "        # initialise the dictionary-of-lists\n",
        "        csvcols = next(csvr)\n",
        "        for c in csvcols:\n",
        "            csvdata[c] = []\n",
        "\n",
        "        # Notice this code is still the same,\n",
        "        # we just used next(csvr) to get the\n",
        "        # header row first!\n",
        "        for r in csvr:\n",
        "            # Although you can often assume that the order\n",
        "            # of the keys is the same, Python doesn't\n",
        "            # guarantee it; this way we will always make\n",
        "            # the correct assignment.\n",
        "            for idx, c in enumerate(csvcols):\n",
        "                csvdata[c].append(r[idx])\n",
        "\n",
        "    # Return dictionary of lists\n",
        "    return csvdata\n",
        "\n",
        "ds = read_csv(src)\n",
        "print(ds)"
      ],
      "metadata": {
        "colab": {
          "base_uri": "https://localhost:8080/"
        },
        "id": "Mdi1x4sgWvcX",
        "outputId": "86e1a387-6102-4045-aa7e-31da91015cd2"
      },
      "execution_count": null,
      "outputs": [
        {
          "output_type": "stream",
          "name": "stdout",
          "text": [
            "{'City': ['Perth', 'Armagh', 'Dundee', 'Colchester', 'Salisbury', 'Portsmouth', 'Wakefield', 'Bradford', 'Lancaster', 'Bangor'], 'Population': ['45770', '14777', '147268', '194706', '40302', '205056', '325837', '522452', '138375', '18808'], 'Latitude': ['56.39583', '54.3499', '56.462', '51.88861', '51.07', '50.80583', '53.683', '53.792', '54.047', '53.228'], 'Longitude': ['-3.43333', '-6.6546', '-2.9707', '0.90361', '-1.79', '-1.08722', '-1.499', '-1.754', '-2.801', '-4.128']}\n"
          ]
        }
      ]
    },
    {
      "cell_type": "markdown",
      "source": [],
      "metadata": {
        "id": "PgbUS2gePjoy"
      }
    },
    {
      "cell_type": "code",
      "source": [
        "#把经纬度longitude 从str 变为num\n",
        "#type: 'column data' (cdata) -> 'column type' (ctype)\n",
        "cols  = ['City', 'Population', 'Latitude', 'Longitude'] # <- Column name\n",
        "dtype = [str, int, float, float]\n",
        "def to_type(cdata, ctype): #：cdata（要转换的数据）ctype（目标数据类型）。\n",
        "    # If a string\n",
        "    if isinstance(cdata, str):\n",
        "        try:\n",
        "            if ctype==bool:\n",
        "                return cdata==True\n",
        "            else:\n",
        "                return ctype(cdata) #转换数据形式\n",
        "        except TypeError:\n",
        "            return cdata\n",
        "\n",
        "    # Not a string (assume list)\n",
        "    else:\n",
        "        fdata = []\n",
        "        for c in cdata:\n",
        "            try:\n",
        "                if ctype==bool:\n",
        "                    fdata.append( c=='True' )\n",
        "                else:\n",
        "                    fdata.append( ctype(c) )\n",
        "            except:\n",
        "                fdata.append( c )\n",
        "        return fdata\n",
        "\n",
        "ds2 = {}\n",
        "for col in zip(cols, dtype): # zip：cols 和dtype组合\n",
        "    colname = col[0]\n",
        "    coltype = col[1]\n",
        "    ds2[ colname ] = to_type( ds[colname], coltype )\n",
        "print(ds2['Longitude'])\n",
        "print(ds['Longitude'])"
      ],
      "metadata": {
        "colab": {
          "base_uri": "https://localhost:8080/",
          "height": 258
        },
        "id": "wRgxexsrXbKt",
        "outputId": "0a19f825-a702-46f3-bd98-aef0a672c091"
      },
      "execution_count": null,
      "outputs": [
        {
          "output_type": "stream",
          "name": "stdout",
          "text": [
            "[-3.43333, -6.6546, -2.9707, 0.90361, -1.79, -1.08722, -1.499, -1.754, -2.801, -4.128]\n",
            "['-3.43333', '-6.6546', '-2.9707', '0.90361', '-1.79', '-1.08722', '-1.499', '-1.754', '-2.801', '-4.128']\n"
          ]
        },
        {
          "output_type": "error",
          "ename": "TypeError",
          "evalue": "ignored",
          "traceback": [
            "\u001b[0;31m---------------------------------------------------------------------------\u001b[0m",
            "\u001b[0;31mTypeError\u001b[0m                                 Traceback (most recent call last)",
            "\u001b[0;32m<ipython-input-21-02b5bbc4e860>\u001b[0m in \u001b[0;36m<cell line: 36>\u001b[0;34m()\u001b[0m\n\u001b[1;32m     34\u001b[0m \u001b[0mprint\u001b[0m\u001b[0;34m(\u001b[0m\u001b[0mds2\u001b[0m\u001b[0;34m[\u001b[0m\u001b[0;34m'Longitude'\u001b[0m\u001b[0;34m]\u001b[0m\u001b[0;34m)\u001b[0m\u001b[0;34m\u001b[0m\u001b[0;34m\u001b[0m\u001b[0m\n\u001b[1;32m     35\u001b[0m \u001b[0mprint\u001b[0m\u001b[0;34m(\u001b[0m\u001b[0mds\u001b[0m\u001b[0;34m[\u001b[0m\u001b[0;34m'Longitude'\u001b[0m\u001b[0;34m]\u001b[0m\u001b[0;34m)\u001b[0m\u001b[0;34m\u001b[0m\u001b[0;34m\u001b[0m\u001b[0m\n\u001b[0;32m---> 36\u001b[0;31m \u001b[0mfloat\u001b[0m\u001b[0;34m(\u001b[0m\u001b[0mds\u001b[0m\u001b[0;34m[\u001b[0m\u001b[0mcolname\u001b[0m\u001b[0;34m]\u001b[0m\u001b[0;34m)\u001b[0m\u001b[0;34m\u001b[0m\u001b[0;34m\u001b[0m\u001b[0m\n\u001b[0m",
            "\u001b[0;31mTypeError\u001b[0m: float() argument must be a string or a real number, not 'list'"
          ]
        }
      ]
    },
    {
      "cell_type": "code",
      "source": [
        "import numpy as np\n",
        "url = \"https://raw.githubusercontent.com/jreades/fsds/master/data/src/Wikipedia-Cities.csv\"\n",
        "out = os.path.join('data','Wikipedia-Cities-full.csv')\n",
        "\n",
        "cols  = ['City', 'Population', 'Latitude', 'Longitude']\n",
        "dtype = [str, int, float, float]\n",
        "\n",
        "untyped_dol = read_csv(get_url(url, out))\n",
        "\n",
        "typed_dol = {}\n",
        "for col in zip(cols, dtype):\n",
        "    colname = col[0]\n",
        "    coltype = col[1]\n",
        "    typed_dol[ colname ] = to_type(untyped_dol[colname], coltype)\n",
        "\n",
        "print(f\"Average population is {np.mean(typed_dol['Population']):,.2f}\")\n",
        "print(f\"Westernmost city is {typed_dol['City'][np.where(typed_dol['Longitude']==np.min(typed_dol['Longitude']))[0][0]]}\")\n",
        "print(f\"Northernmost city is {typed_dol['City'][np.where(typed_dol['Latitude']==np.max(typed_dol['Latitude']))[0][0]]}\")\n",
        "print(f\"Southernmost city is {typed_dol['City'][np.where(typed_dol['Latitude']==np.min(typed_dol['Latitude']))[0][0]]}\")\n",
        "print([np.where(typed_dol['Longitude']==np.min(typed_dol['Longitude']))[0][0]])\n",
        "np.where(typed_dol['Latitude'] == np.min(typed_dol['Latitude']))"
      ],
      "metadata": {
        "colab": {
          "base_uri": "https://localhost:8080/"
        },
        "id": "CxUmUDBfYAQd",
        "outputId": "7ff58741-848c-43bd-8ef6-0d6948c10efc"
      },
      "execution_count": null,
      "outputs": [
        {
          "output_type": "stream",
          "name": "stdout",
          "text": [
            "data/Wikipedia-Cities-full.csv found locally!\n",
            "Average population is 202,283.36\n",
            "Westernmost city is Derry\n",
            "Northernmost city is Inverness, Inerness, Inbhir Nis\n",
            "Southernmost city is Truro\n",
            "[19]\n"
          ]
        },
        {
          "output_type": "execute_result",
          "data": {
            "text/plain": [
              "(array([65]),)"
            ]
          },
          "metadata": {},
          "execution_count": 29
        }
      ]
    },
    {
      "cell_type": "code",
      "source": [
        "data = {\n",
        "    'City': ['Perth', 'Armagh', 'Dundee', 'Colchester', 'Salisbury', 'Portsmouth', 'Wakefield', 'Bradford', 'Lancaster', 'Bangor'],\n",
        "    'Population': ['45770', '14777', '147268', '194706', '40302', '205056', '325837', '522452', '138375', '18808'],\n",
        "    'Latitude': ['56.39583', '54.3499', '56.462', '51.88861', '51.07', '50.80583', '53.683', '53.792', '54.047', '53.228'],\n",
        "    'Longitude': ['-3.43333', '-6.6546', '-2.9707', '0.90361', '-1.79', '-1.08722', '-1.499', '-1.754', '-2.801', '-4.128']\n",
        "}\n",
        "\n",
        "# 将 'Latitude' 和 'Longitude' 的字符串值转换为浮点数\n",
        "data['Latitude'] = [float(lat) for lat in data['Latitude']]\n",
        "data['Longitude'] = [float(lon) for lon in data['Longitude']]\n",
        "\n",
        "print(data)\n",
        "print(data['Longitude'])\n"
      ],
      "metadata": {
        "colab": {
          "base_uri": "https://localhost:8080/"
        },
        "id": "dI-AVQrXnh8s",
        "outputId": "10d98d9e-6094-470e-8f5c-449d01d27869"
      },
      "execution_count": null,
      "outputs": [
        {
          "output_type": "stream",
          "name": "stdout",
          "text": [
            "{'City': ['Perth', 'Armagh', 'Dundee', 'Colchester', 'Salisbury', 'Portsmouth', 'Wakefield', 'Bradford', 'Lancaster', 'Bangor'], 'Population': ['45770', '14777', '147268', '194706', '40302', '205056', '325837', '522452', '138375', '18808'], 'Latitude': [56.39583, 54.3499, 56.462, 51.88861, 51.07, 50.80583, 53.683, 53.792, 54.047, 53.228], 'Longitude': [-3.43333, -6.6546, -2.9707, 0.90361, -1.79, -1.08722, -1.499, -1.754, -2.801, -4.128]}\n",
            "[-3.43333, -6.6546, -2.9707, 0.90361, -1.79, -1.08722, -1.499, -1.754, -2.801, -4.128]\n"
          ]
        }
      ]
    },
    {
      "cell_type": "code",
      "source": [],
      "metadata": {
        "id": "c7UbELJzX_WL"
      },
      "execution_count": null,
      "outputs": []
    }
  ]
}